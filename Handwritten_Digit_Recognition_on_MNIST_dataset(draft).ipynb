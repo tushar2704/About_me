{
  "nbformat": 4,
  "nbformat_minor": 0,
  "metadata": {
    "colab": {
      "provenance": [],
      "authorship_tag": "ABX9TyOD/vZ0F1/cPllSgsNqP3Ye",
      "include_colab_link": true
    },
    "kernelspec": {
      "name": "python3",
      "display_name": "Python 3"
    },
    "language_info": {
      "name": "python"
    }
  },
  "cells": [
    {
      "cell_type": "markdown",
      "metadata": {
        "id": "view-in-github",
        "colab_type": "text"
      },
      "source": [
        "<a href=\"https://colab.research.google.com/github/tushar2704/tushar2704/blob/main/Handwritten_Digit_Recognition_on_MNIST_dataset(draft).ipynb\" target=\"_parent\"><img src=\"https://colab.research.google.com/assets/colab-badge.svg\" alt=\"Open In Colab\"/></a>"
      ]
    },
    {
      "cell_type": "markdown",
      "source": [
        "PRCP-1002-Handwritten Digits Recognition\n",
        "\n",
        "Problem Statement\n",
        "\n",
        "Task 1:-Prepare a complete data analysis report on the given data.\n",
        "Task 2:- Classify a given image of a handwritten digit into one of the 10 classes\n",
        "representing integer values from 0 to 9.\n",
        "Task3:- Compare between various models and find the classifier that works\n",
        "better.\n",
        "\n",
        "Dataset Link:\n",
        "MNIST (&quot;Modified National Institute of Standards and Technology&quot;) is the de facto “hello\n",
        "world” dataset of computer vision. Since its release in 1999, this classic dataset of\n",
        "handwritten images has served as the basis for benchmarking classification algorithms.\n",
        "As new machine learning techniques emerge, MNIST remains a reliable resource for\n",
        "researchers and learners alike.\n",
        "Your goal is to correctly identify digits from a dataset of tens of thousands of\n",
        "handwritten images. We encourage you to experiment with different algorithms to learn\n",
        "first-hand what works well and how techniques compare.\n",
        "Practice Skills\n",
        "● Computer vision fundamentals including simple neural networks\n",
        "● Classification methods such as SVM and K-nearest neighbors\n",
        "\n",
        "Link : https://d3ilbtxij3aepc.cloudfront.net/projects/CDS-Capstone-Projects/PRCP-1002-\n",
        "HandwrittenDigits.zip\n",
        "\n",
        "The input feature contains images.\n",
        "Output feature contains 10 classes (digits varying from 0 to 9)\n",
        "\n",
        "Model Comparison Report\n",
        "Create a report stating the performance of multiple models on this data and\n",
        "suggest the best model for production.\n",
        "Report on Challenges faced\n",
        "Create a report which should include challenges you faced on data and\n",
        "what technique used with proper reason.\n",
        "\n",
        "Note:-All above tasks have to be done on a single jupyter notebook and\n",
        "share the same while final submission of project."
      ],
      "metadata": {
        "id": "jMzGv4tVAIPL"
      }
    },
    {
      "cell_type": "code",
      "source": [
        "#Importing the required Liabraries\n",
        "import numpy as np\n",
        "import pandas as pd\n",
        "\n",
        "import keras\n",
        "from keras import utils as np_utils\n",
        "from keras.datasets import mnist"
      ],
      "metadata": {
        "id": "bPnaNdKXAJUM"
      },
      "execution_count": 71,
      "outputs": []
    },
    {
      "cell_type": "code",
      "source": [
        "#Importing the additional Liabraries\n",
        "import matplotlib.pyplot as plt \n",
        "from keras.models import Sequential\n",
        "from keras.layers import Dense, Conv2D, MaxPool2D, Flatten, Dropout\n",
        "from keras.callbacks import EarlyStopping, ModelCheckpoint"
      ],
      "metadata": {
        "id": "9hWAH8dXAOJg"
      },
      "execution_count": 72,
      "outputs": []
    },
    {
      "cell_type": "markdown",
      "source": [
        "## Preprocessing the data"
      ],
      "metadata": {
        "id": "zi-iLoDHAWeo"
      }
    },
    {
      "cell_type": "code",
      "source": [
        "mnist.load_data()"
      ],
      "metadata": {
        "colab": {
          "base_uri": "https://localhost:8080/"
        },
        "id": "Xp-4iOxIATDZ",
        "outputId": "cca03713-d63d-4586-e9d2-4341752b7cb2"
      },
      "execution_count": 73,
      "outputs": [
        {
          "output_type": "execute_result",
          "data": {
            "text/plain": [
              "((array([[[0, 0, 0, ..., 0, 0, 0],\n",
              "          [0, 0, 0, ..., 0, 0, 0],\n",
              "          [0, 0, 0, ..., 0, 0, 0],\n",
              "          ...,\n",
              "          [0, 0, 0, ..., 0, 0, 0],\n",
              "          [0, 0, 0, ..., 0, 0, 0],\n",
              "          [0, 0, 0, ..., 0, 0, 0]],\n",
              "  \n",
              "         [[0, 0, 0, ..., 0, 0, 0],\n",
              "          [0, 0, 0, ..., 0, 0, 0],\n",
              "          [0, 0, 0, ..., 0, 0, 0],\n",
              "          ...,\n",
              "          [0, 0, 0, ..., 0, 0, 0],\n",
              "          [0, 0, 0, ..., 0, 0, 0],\n",
              "          [0, 0, 0, ..., 0, 0, 0]],\n",
              "  \n",
              "         [[0, 0, 0, ..., 0, 0, 0],\n",
              "          [0, 0, 0, ..., 0, 0, 0],\n",
              "          [0, 0, 0, ..., 0, 0, 0],\n",
              "          ...,\n",
              "          [0, 0, 0, ..., 0, 0, 0],\n",
              "          [0, 0, 0, ..., 0, 0, 0],\n",
              "          [0, 0, 0, ..., 0, 0, 0]],\n",
              "  \n",
              "         ...,\n",
              "  \n",
              "         [[0, 0, 0, ..., 0, 0, 0],\n",
              "          [0, 0, 0, ..., 0, 0, 0],\n",
              "          [0, 0, 0, ..., 0, 0, 0],\n",
              "          ...,\n",
              "          [0, 0, 0, ..., 0, 0, 0],\n",
              "          [0, 0, 0, ..., 0, 0, 0],\n",
              "          [0, 0, 0, ..., 0, 0, 0]],\n",
              "  \n",
              "         [[0, 0, 0, ..., 0, 0, 0],\n",
              "          [0, 0, 0, ..., 0, 0, 0],\n",
              "          [0, 0, 0, ..., 0, 0, 0],\n",
              "          ...,\n",
              "          [0, 0, 0, ..., 0, 0, 0],\n",
              "          [0, 0, 0, ..., 0, 0, 0],\n",
              "          [0, 0, 0, ..., 0, 0, 0]],\n",
              "  \n",
              "         [[0, 0, 0, ..., 0, 0, 0],\n",
              "          [0, 0, 0, ..., 0, 0, 0],\n",
              "          [0, 0, 0, ..., 0, 0, 0],\n",
              "          ...,\n",
              "          [0, 0, 0, ..., 0, 0, 0],\n",
              "          [0, 0, 0, ..., 0, 0, 0],\n",
              "          [0, 0, 0, ..., 0, 0, 0]]], dtype=uint8),\n",
              "  array([5, 0, 4, ..., 5, 6, 8], dtype=uint8)),\n",
              " (array([[[0, 0, 0, ..., 0, 0, 0],\n",
              "          [0, 0, 0, ..., 0, 0, 0],\n",
              "          [0, 0, 0, ..., 0, 0, 0],\n",
              "          ...,\n",
              "          [0, 0, 0, ..., 0, 0, 0],\n",
              "          [0, 0, 0, ..., 0, 0, 0],\n",
              "          [0, 0, 0, ..., 0, 0, 0]],\n",
              "  \n",
              "         [[0, 0, 0, ..., 0, 0, 0],\n",
              "          [0, 0, 0, ..., 0, 0, 0],\n",
              "          [0, 0, 0, ..., 0, 0, 0],\n",
              "          ...,\n",
              "          [0, 0, 0, ..., 0, 0, 0],\n",
              "          [0, 0, 0, ..., 0, 0, 0],\n",
              "          [0, 0, 0, ..., 0, 0, 0]],\n",
              "  \n",
              "         [[0, 0, 0, ..., 0, 0, 0],\n",
              "          [0, 0, 0, ..., 0, 0, 0],\n",
              "          [0, 0, 0, ..., 0, 0, 0],\n",
              "          ...,\n",
              "          [0, 0, 0, ..., 0, 0, 0],\n",
              "          [0, 0, 0, ..., 0, 0, 0],\n",
              "          [0, 0, 0, ..., 0, 0, 0]],\n",
              "  \n",
              "         ...,\n",
              "  \n",
              "         [[0, 0, 0, ..., 0, 0, 0],\n",
              "          [0, 0, 0, ..., 0, 0, 0],\n",
              "          [0, 0, 0, ..., 0, 0, 0],\n",
              "          ...,\n",
              "          [0, 0, 0, ..., 0, 0, 0],\n",
              "          [0, 0, 0, ..., 0, 0, 0],\n",
              "          [0, 0, 0, ..., 0, 0, 0]],\n",
              "  \n",
              "         [[0, 0, 0, ..., 0, 0, 0],\n",
              "          [0, 0, 0, ..., 0, 0, 0],\n",
              "          [0, 0, 0, ..., 0, 0, 0],\n",
              "          ...,\n",
              "          [0, 0, 0, ..., 0, 0, 0],\n",
              "          [0, 0, 0, ..., 0, 0, 0],\n",
              "          [0, 0, 0, ..., 0, 0, 0]],\n",
              "  \n",
              "         [[0, 0, 0, ..., 0, 0, 0],\n",
              "          [0, 0, 0, ..., 0, 0, 0],\n",
              "          [0, 0, 0, ..., 0, 0, 0],\n",
              "          ...,\n",
              "          [0, 0, 0, ..., 0, 0, 0],\n",
              "          [0, 0, 0, ..., 0, 0, 0],\n",
              "          [0, 0, 0, ..., 0, 0, 0]]], dtype=uint8),\n",
              "  array([7, 2, 1, ..., 4, 5, 6], dtype=uint8)))"
            ]
          },
          "metadata": {},
          "execution_count": 73
        }
      ]
    },
    {
      "cell_type": "code",
      "source": [
        "(X_train, y_train), (X_test, y_test)  =  mnist.load_data()"
      ],
      "metadata": {
        "id": "gCp3dThxAY1B"
      },
      "execution_count": 74,
      "outputs": []
    },
    {
      "cell_type": "code",
      "source": [
        "print(X_train.shape, y_train.shape, X_test.shape, y_test.shape)"
      ],
      "metadata": {
        "colab": {
          "base_uri": "https://localhost:8080/"
        },
        "id": "FeletST1AbcG",
        "outputId": "dca76f52-c112-460e-ce5d-f4bed706c4e9"
      },
      "execution_count": 75,
      "outputs": [
        {
          "output_type": "stream",
          "name": "stdout",
          "text": [
            "(60000, 28, 28) (60000,) (10000, 28, 28) (10000,)\n"
          ]
        }
      ]
    },
    {
      "cell_type": "markdown",
      "source": [
        "# Visualizing"
      ],
      "metadata": {
        "id": "torjbEheAe8v"
      }
    },
    {
      "cell_type": "code",
      "source": [
        "#Defining function to visualize\n",
        "def image_input_plot(i):\n",
        "    plt.imshow(X_train[i], cmap = 'binary')\n",
        "    plt.title(\"X_train[i]\")\n",
        "    plt.show()"
      ],
      "metadata": {
        "id": "zcGI9fkEAcxR"
      },
      "execution_count": 76,
      "outputs": []
    },
    {
      "cell_type": "code",
      "source": [
        "#printing first ten images\n",
        "for i in range(10):\n",
        "    image_input_plot(i)"
      ],
      "metadata": {
        "colab": {
          "base_uri": "https://localhost:8080/",
          "height": 1000
        },
        "id": "OT0FxC4NAj_T",
        "outputId": "b9f45fe3-7985-48d6-9c39-28055b6bc178"
      },
      "execution_count": 77,
      "outputs": [
        {
          "output_type": "display_data",
          "data": {
            "text/plain": [
              "<Figure size 432x288 with 1 Axes>"
            ],
            "image/png": "[encoded data removed]"
          },
          "metadata": {
            "needs_background": "light"
          }
        },
        {
          "output_type": "display_data",
          "data": {
            "text/plain": [
              "<Figure size 432x288 with 1 Axes>"
            ],
            "image/png": "[encoded data removed]"
          },
          "metadata": {
            "needs_background": "light"
          }
        },
        {
          "output_type": "display_data",
          "data": {
            "text/plain": [
              "<Figure size 432x288 with 1 Axes>"
            ],
            "image/png": "[encoded data removed]"
          },
          "metadata": {
            "needs_background": "light"
          }
        },
        {
          "output_type": "display_data",
          "data": {
            "text/plain": [
              "<Figure size 432x288 with 1 Axes>"
            ],
            "image/png": "[encoded data removed]"
          },
          "metadata": {
            "needs_background": "light"
          }
        },
        {
          "output_type": "display_data",
          "data": {
            "text/plain": [
              "<Figure size 432x288 with 1 Axes>"
            ],
            "image/png": "[encoded data removed]"
          },
          "metadata": {
            "needs_background": "light"
          }
        },
        {
          "output_type": "display_data",
          "data": {
            "text/plain": [
              "<Figure size 432x288 with 1 Axes>"
            ],
            "image/png": "[encoded data removed]"
          },
          "metadata": {
            "needs_background": "light"
          }
        },
        {
          "output_type": "display_data",
          "data": {
            "text/plain": [
              "<Figure size 432x288 with 1 Axes>"
            ],
            "image/png": "[encoded data removed]"
          },
          "metadata": {
            "needs_background": "light"
          }
        },
        {
          "output_type": "display_data",
          "data": {
            "text/plain": [
              "<Figure size 432x288 with 1 Axes>"
            ],
            "image/png": "[encoded data removed]"
          },
          "metadata": {
            "needs_background": "light"
          }
        },
        {
          "output_type": "display_data",
          "data": {
            "text/plain": [
              "<Figure size 432x288 with 1 Axes>"
            ],
            "image/png": "[encoded data removed]"
          },
          "metadata": {
            "needs_background": "light"
          }
        },
        {
          "output_type": "display_data",
          "data": {
            "text/plain": [
              "<Figure size 432x288 with 1 Axes>"
            ],
            "image/png": "[encoded data removed]"
          },
          "metadata": {
            "needs_background": "light"
          }
        }
      ]
    },
    {
      "cell_type": "code",
      "source": [
        "#Processing the images\n",
        "\n",
        "#Normalizing to [0,1] range\n",
        "\n",
        "X_train = X_train.astype(np.float32) / 255\n",
        "X_test = X_test.astype(np.float32) / 255"
      ],
      "metadata": {
        "id": "zQGZWC6VAy6B"
      },
      "execution_count": 78,
      "outputs": []
    },
    {
      "cell_type": "code",
      "source": [
        "#Reshaped the dimesnion of images to (28,28,1)\n",
        "X_train = np.expand_dims(X_train, -1)\n",
        "X_test = np.expand_dims(X_test, -1)"
      ],
      "metadata": {
        "id": "WI8FdlgXDx0O"
      },
      "execution_count": 79,
      "outputs": []
    },
    {
      "cell_type": "code",
      "source": [
        "#One hot encoding / coverting classes\n",
        "\n",
        "y_train = keras.utils.np_utils.to_categorical(y_train)\n",
        "\n",
        "y_test = keras.utils.np_utils.to_categorical(y_test)\n",
        "\n"
      ],
      "metadata": {
        "id": "2hLl9pQAGhe0"
      },
      "execution_count": 80,
      "outputs": []
    },
    {
      "cell_type": "markdown",
      "source": [
        "# Building the model"
      ],
      "metadata": {
        "id": "SIjvRQWbIceM"
      }
    },
    {
      "cell_type": "code",
      "source": [
        "model_1 = Sequential()\n",
        "\n",
        "#First layer\n",
        "model_1.add(Conv2D(32, (3,3), input_shape = (28,28,1), activation = 'relu'))\n",
        "model_1.add(MaxPool2D((2,2)))\n",
        "\n",
        "\n",
        "#Second layer\n",
        "model_1.add(Conv2D(64, (3,3), activation = 'relu'))\n",
        "model_1.add(MaxPool2D((2,2)))\n",
        "\n",
        "#Flattening the layer\n",
        "model_1.add(Flatten())\n",
        "\n",
        "#Dropout\n",
        "model_1.add(Dropout(0.25))\n",
        "\n",
        "#Classification layer\n",
        "model_1.add(Dense(10, activation=\"softmax\"))"
      ],
      "metadata": {
        "id": "KfyiBMjZG-uA"
      },
      "execution_count": 81,
      "outputs": []
    },
    {
      "cell_type": "code",
      "source": [
        "print(model_1.summary())"
      ],
      "metadata": {
        "colab": {
          "base_uri": "https://localhost:8080/"
        },
        "id": "P5mUDxHiSTEN",
        "outputId": "9ce6009a-b884-4fa7-e11e-b64171365fad"
      },
      "execution_count": 82,
      "outputs": [
        {
          "output_type": "stream",
          "name": "stdout",
          "text": [
            "Model: \"sequential_4\"\n",
            "_________________________________________________________________\n",
            " Layer (type)                Output Shape              Param #   \n",
            "=================================================================\n",
            " conv2d_4 (Conv2D)           (None, 26, 26, 32)        320       \n",
            "                                                                 \n",
            " max_pooling2d_4 (MaxPooling  (None, 13, 13, 32)       0         \n",
            " 2D)                                                             \n",
            "                                                                 \n",
            " conv2d_5 (Conv2D)           (None, 11, 11, 64)        18496     \n",
            "                                                                 \n",
            " max_pooling2d_5 (MaxPooling  (None, 5, 5, 64)         0         \n",
            " 2D)                                                             \n",
            "                                                                 \n",
            " flatten_2 (Flatten)         (None, 1600)              0         \n",
            "                                                                 \n",
            " dropout_2 (Dropout)         (None, 1600)              0         \n",
            "                                                                 \n",
            " dense_2 (Dense)             (None, 10)                16010     \n",
            "                                                                 \n",
            "=================================================================\n",
            "Total params: 34,826\n",
            "Trainable params: 34,826\n",
            "Non-trainable params: 0\n",
            "_________________________________________________________________\n",
            "None\n"
          ]
        }
      ]
    },
    {
      "cell_type": "code",
      "source": [
        "#Compliation\n",
        "model_1.compile(optimizer = 'adam', loss= keras.losses.categorical_crossentropy, metrics = ['accuracy'])"
      ],
      "metadata": {
        "id": "gHcsDa1eUxyq"
      },
      "execution_count": 83,
      "outputs": []
    },
    {
      "cell_type": "code",
      "source": [
        "#Callbacks\n",
        "\n",
        "#Earlystopping\n",
        "es = EarlyStopping(monitor='val_acc', min_delta =0.01, patience=4, verbose=1 )\n",
        "\n",
        "#Model check point\n",
        "\n",
        "mcp = ModelCheckpoint(\"./bestmodel.h5\", monitor='val_acc', verbose=1, save_best_only=True)\n",
        "\n",
        "\n",
        "callback = [es,mcp]"
      ],
      "metadata": {
        "id": "8lH0ztCIV27o"
      },
      "execution_count": 84,
      "outputs": []
    },
    {
      "cell_type": "markdown",
      "source": [
        "# Model Training"
      ],
      "metadata": {
        "id": "_VUfWLnnYdDa"
      }
    },
    {
      "cell_type": "code",
      "source": [
        "his = model_1.fit(X_train , y_train , epochs = 50 , validation_split= 0.3)"
      ],
      "metadata": {
        "colab": {
          "base_uri": "https://localhost:8080/"
        },
        "id": "XZ63WQ8QVwx8",
        "outputId": "fc96ef93-b87c-40c6-cd78-1d3311e9e580"
      },
      "execution_count": 85,
      "outputs": [
        {
          "output_type": "stream",
          "name": "stdout",
          "text": [
            "Epoch 1/50\n",
            "1313/1313 [==============================] - 30s 23ms/step - loss: 0.2164 - accuracy: 0.9348 - val_loss: 0.0769 - val_accuracy: 0.9767\n",
            "Epoch 2/50\n",
            "1313/1313 [==============================] - 29s 22ms/step - loss: 0.0753 - accuracy: 0.9770 - val_loss: 0.0556 - val_accuracy: 0.9831\n",
            "Epoch 3/50\n",
            "1313/1313 [==============================] - 30s 23ms/step - loss: 0.0564 - accuracy: 0.9824 - val_loss: 0.0542 - val_accuracy: 0.9833\n",
            "Epoch 4/50\n",
            "1313/1313 [==============================] - 29s 22ms/step - loss: 0.0460 - accuracy: 0.9858 - val_loss: 0.0435 - val_accuracy: 0.9869\n",
            "Epoch 5/50\n",
            "1313/1313 [==============================] - 30s 23ms/step - loss: 0.0378 - accuracy: 0.9876 - val_loss: 0.0532 - val_accuracy: 0.9835\n",
            "Epoch 6/50\n",
            "1313/1313 [==============================] - 29s 22ms/step - loss: 0.0332 - accuracy: 0.9892 - val_loss: 0.0511 - val_accuracy: 0.9849\n",
            "Epoch 7/50\n",
            "1313/1313 [==============================] - 30s 23ms/step - loss: 0.0283 - accuracy: 0.9904 - val_loss: 0.0385 - val_accuracy: 0.9884\n",
            "Epoch 8/50\n",
            "1313/1313 [==============================] - 30s 23ms/step - loss: 0.0246 - accuracy: 0.9924 - val_loss: 0.0398 - val_accuracy: 0.9888\n",
            "Epoch 9/50\n",
            "1313/1313 [==============================] - 30s 23ms/step - loss: 0.0228 - accuracy: 0.9921 - val_loss: 0.0513 - val_accuracy: 0.9864\n",
            "Epoch 10/50\n",
            "1313/1313 [==============================] - 30s 23ms/step - loss: 0.0201 - accuracy: 0.9936 - val_loss: 0.0375 - val_accuracy: 0.9893\n",
            "Epoch 11/50\n",
            "1313/1313 [==============================] - 29s 22ms/step - loss: 0.0183 - accuracy: 0.9934 - val_loss: 0.0436 - val_accuracy: 0.9883\n",
            "Epoch 12/50\n",
            "1313/1313 [==============================] - 29s 22ms/step - loss: 0.0173 - accuracy: 0.9941 - val_loss: 0.0392 - val_accuracy: 0.9889\n",
            "Epoch 13/50\n",
            "1313/1313 [==============================] - 29s 22ms/step - loss: 0.0153 - accuracy: 0.9949 - val_loss: 0.0435 - val_accuracy: 0.9877\n",
            "Epoch 14/50\n",
            "1313/1313 [==============================] - 29s 22ms/step - loss: 0.0143 - accuracy: 0.9951 - val_loss: 0.0459 - val_accuracy: 0.9878\n",
            "Epoch 15/50\n",
            "1313/1313 [==============================] - 29s 22ms/step - loss: 0.0145 - accuracy: 0.9948 - val_loss: 0.0409 - val_accuracy: 0.9893\n",
            "Epoch 16/50\n",
            "1313/1313 [==============================] - 30s 23ms/step - loss: 0.0123 - accuracy: 0.9956 - val_loss: 0.0457 - val_accuracy: 0.9886\n",
            "Epoch 17/50\n",
            "1313/1313 [==============================] - 29s 22ms/step - loss: 0.0121 - accuracy: 0.9958 - val_loss: 0.0387 - val_accuracy: 0.9901\n",
            "Epoch 18/50\n",
            "1313/1313 [==============================] - 29s 22ms/step - loss: 0.0094 - accuracy: 0.9965 - val_loss: 0.0443 - val_accuracy: 0.9899\n",
            "Epoch 19/50\n",
            "1313/1313 [==============================] - 28s 22ms/step - loss: 0.0103 - accuracy: 0.9960 - val_loss: 0.0455 - val_accuracy: 0.9899\n",
            "Epoch 20/50\n",
            "1313/1313 [==============================] - 30s 23ms/step - loss: 0.0106 - accuracy: 0.9962 - val_loss: 0.0434 - val_accuracy: 0.9898\n",
            "Epoch 21/50\n",
            "1313/1313 [==============================] - 29s 22ms/step - loss: 0.0095 - accuracy: 0.9964 - val_loss: 0.0504 - val_accuracy: 0.9890\n",
            "Epoch 22/50\n",
            "1313/1313 [==============================] - 29s 22ms/step - loss: 0.0093 - accuracy: 0.9967 - val_loss: 0.0475 - val_accuracy: 0.9894\n",
            "Epoch 23/50\n",
            "1313/1313 [==============================] - 29s 22ms/step - loss: 0.0083 - accuracy: 0.9969 - val_loss: 0.0524 - val_accuracy: 0.9899\n",
            "Epoch 24/50\n",
            "1313/1313 [==============================] - 29s 22ms/step - loss: 0.0086 - accuracy: 0.9970 - val_loss: 0.0459 - val_accuracy: 0.9900\n",
            "Epoch 25/50\n",
            "1313/1313 [==============================] - 30s 23ms/step - loss: 0.0085 - accuracy: 0.9970 - val_loss: 0.0516 - val_accuracy: 0.9894\n",
            "Epoch 26/50\n",
            "1313/1313 [==============================] - 29s 22ms/step - loss: 0.0084 - accuracy: 0.9969 - val_loss: 0.0482 - val_accuracy: 0.9904\n",
            "Epoch 27/50\n",
            "1313/1313 [==============================] - 30s 23ms/step - loss: 0.0082 - accuracy: 0.9972 - val_loss: 0.0515 - val_accuracy: 0.9897\n",
            "Epoch 28/50\n",
            "1313/1313 [==============================] - 29s 22ms/step - loss: 0.0076 - accuracy: 0.9973 - val_loss: 0.0507 - val_accuracy: 0.9893\n",
            "Epoch 29/50\n",
            "1313/1313 [==============================] - 29s 22ms/step - loss: 0.0067 - accuracy: 0.9975 - val_loss: 0.0542 - val_accuracy: 0.9899\n",
            "Epoch 30/50\n",
            "1313/1313 [==============================] - 29s 22ms/step - loss: 0.0071 - accuracy: 0.9974 - val_loss: 0.0524 - val_accuracy: 0.9896\n",
            "Epoch 31/50\n",
            "1313/1313 [==============================] - 30s 23ms/step - loss: 0.0076 - accuracy: 0.9974 - val_loss: 0.0523 - val_accuracy: 0.9899\n",
            "Epoch 32/50\n",
            "1313/1313 [==============================] - 30s 23ms/step - loss: 0.0077 - accuracy: 0.9974 - val_loss: 0.0499 - val_accuracy: 0.9901\n",
            "Epoch 33/50\n",
            "1313/1313 [==============================] - 30s 23ms/step - loss: 0.0065 - accuracy: 0.9976 - val_loss: 0.0514 - val_accuracy: 0.9902\n",
            "Epoch 34/50\n",
            "1313/1313 [==============================] - 28s 22ms/step - loss: 0.0063 - accuracy: 0.9978 - val_loss: 0.0534 - val_accuracy: 0.9901\n",
            "Epoch 35/50\n",
            "1313/1313 [==============================] - 28s 22ms/step - loss: 0.0068 - accuracy: 0.9976 - val_loss: 0.0508 - val_accuracy: 0.9901\n",
            "Epoch 36/50\n",
            "1313/1313 [==============================] - 28s 21ms/step - loss: 0.0055 - accuracy: 0.9983 - val_loss: 0.0561 - val_accuracy: 0.9905\n",
            "Epoch 37/50\n",
            "1313/1313 [==============================] - 29s 22ms/step - loss: 0.0075 - accuracy: 0.9975 - val_loss: 0.0509 - val_accuracy: 0.9896\n",
            "Epoch 38/50\n",
            "1313/1313 [==============================] - 30s 22ms/step - loss: 0.0055 - accuracy: 0.9983 - val_loss: 0.0560 - val_accuracy: 0.9900\n",
            "Epoch 39/50\n",
            "1313/1313 [==============================] - 28s 21ms/step - loss: 0.0054 - accuracy: 0.9982 - val_loss: 0.0554 - val_accuracy: 0.9901\n",
            "Epoch 40/50\n",
            "1313/1313 [==============================] - 30s 23ms/step - loss: 0.0049 - accuracy: 0.9981 - val_loss: 0.0589 - val_accuracy: 0.9897\n",
            "Epoch 41/50\n",
            "1313/1313 [==============================] - 30s 23ms/step - loss: 0.0059 - accuracy: 0.9979 - val_loss: 0.0662 - val_accuracy: 0.9883\n",
            "Epoch 42/50\n",
            "1313/1313 [==============================] - 29s 22ms/step - loss: 0.0072 - accuracy: 0.9974 - val_loss: 0.0635 - val_accuracy: 0.9891\n",
            "Epoch 43/50\n",
            "1313/1313 [==============================] - 30s 23ms/step - loss: 0.0051 - accuracy: 0.9982 - val_loss: 0.0626 - val_accuracy: 0.9897\n",
            "Epoch 44/50\n",
            "1313/1313 [==============================] - 29s 22ms/step - loss: 0.0071 - accuracy: 0.9975 - val_loss: 0.0550 - val_accuracy: 0.9906\n",
            "Epoch 45/50\n",
            "1313/1313 [==============================] - 29s 22ms/step - loss: 0.0044 - accuracy: 0.9985 - val_loss: 0.0637 - val_accuracy: 0.9894\n",
            "Epoch 46/50\n",
            "1313/1313 [==============================] - 29s 22ms/step - loss: 0.0054 - accuracy: 0.9982 - val_loss: 0.0639 - val_accuracy: 0.9890\n",
            "Epoch 47/50\n",
            "1313/1313 [==============================] - 29s 22ms/step - loss: 0.0047 - accuracy: 0.9984 - val_loss: 0.0758 - val_accuracy: 0.9887\n",
            "Epoch 48/50\n",
            "1313/1313 [==============================] - 29s 22ms/step - loss: 0.0048 - accuracy: 0.9984 - val_loss: 0.0676 - val_accuracy: 0.9892\n",
            "Epoch 49/50\n",
            "1313/1313 [==============================] - 30s 23ms/step - loss: 0.0059 - accuracy: 0.9981 - val_loss: 0.0718 - val_accuracy: 0.9888\n",
            "Epoch 50/50\n",
            "1313/1313 [==============================] - 29s 22ms/step - loss: 0.0038 - accuracy: 0.9988 - val_loss: 0.0638 - val_accuracy: 0.9903\n"
          ]
        }
      ]
    },
    {
      "cell_type": "code",
      "source": [
        "\n"
      ],
      "metadata": {
        "id": "70bZkAyfZkSh"
      },
      "execution_count": 85,
      "outputs": []
    },
    {
      "cell_type": "code",
      "source": [
        "model_s = keras.models.load_model()"
      ],
      "metadata": {
        "id": "3BZWP_4FmSmx"
      },
      "execution_count": null,
      "outputs": []
    }
  ]
}